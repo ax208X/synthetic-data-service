{
 "cells": [
  {
   "cell_type": "markdown",
   "metadata": {},
   "source": [
    "# Introduction"
   ]
  },
  {
   "cell_type": "markdown",
   "metadata": {},
   "source": [
    "This Jupyter Notebook aims to document and demonstrate the suite of Python modules developed during my summer internship at Health Data Insight in 2019: \n",
    "\n",
    "- To connect to an SQL database using Python, use `from database import connect`. This is a wrapper for `sqlalchemy.create_engine`.\n",
    "- To read about the SQL queries used to build the tables of real and simulated data, see the `populations.py` file, or use `from populations import pop_queries`.\n",
    "- The `queries.py` file contains functions for string manipulation to produce SQL code for running using `pandas.read_sql_query`. These queries can compute counts (group sizes) on grouped data from a given source table, join group count results from different source tables, and calculate statistics for comparing such results.\n",
    "- To run the SQL code for a selection of tables in the CAS/Simulacrum and save the counts data locally, use `from write_results import write_counts_to_csv` as demonstrated below.\n",
    "- The `params.py` file contains module parameters including database connection parameters for Oracle, lists of column names to group by for obtaining aggregate information, and collections of filepaths where results are stored."
   ]
  },
  {
   "cell_type": "markdown",
   "metadata": {},
   "source": [
    "# Setup: Connecting to an SQL database with Python"
   ]
  },
  {
   "cell_type": "code",
   "execution_count": null,
   "metadata": {},
   "outputs": [],
   "source": [
    "# Third-party imports\n",
    "import getpass\n",
    "\n",
    "# Local packages\n",
    "from database import connect\n",
    "from params import field_list_dict"
   ]
  },
  {
   "cell_type": "code",
   "execution_count": null,
   "metadata": {},
   "outputs": [],
   "source": [
    "# Log into the database\n",
    "db = connect(input('username:'), getpass.getpass('password:'))"
   ]
  },
  {
   "cell_type": "code",
   "execution_count": null,
   "metadata": {},
   "outputs": [],
   "source": [
    "key_list = ['sim1', 'sim2', 'av2015', 'av2017']"
   ]
  },
  {
   "cell_type": "markdown",
   "metadata": {},
   "source": [
    "# Writing group counts to .csv"
   ]
  },
  {
   "cell_type": "code",
   "execution_count": null,
   "metadata": {},
   "outputs": [],
   "source": [
    "# from write_results import write_counts_to_csv\n",
    "\n",
    "# for count_type in field_list_dict.keys():\n",
    "#     for key in key_list:\n",
    "#         write_counts_to_csv(count_type, key, db)"
   ]
  },
  {
   "cell_type": "markdown",
   "metadata": {},
   "source": [
    "# Combine the two tables for easier comparison\n",
    "\n",
    "Now we combine the results into a single table, joining on column name and value whilst accounting for the following special cases:\n",
    "- Matching the counts of `NULL` values in each column\n",
    "- Match `CREG_CODE` values, ignoring the first character, as simulated CREG codes are prefixed with 'L' rather than 'Y'\n",
    "- Match `QUINTILE_2015` values using only the first character (an integer between 1 and 5 (inclusive)), ignoring any descriptive text to avoid issues with upper/lower case\n",
    "- Filling null counts (which could not be matched between tables) with 0\n",
    "\n",
    "Constructing this combined table of value counts has now been refactored into the function `queries.all_counts_query`."
   ]
  },
  {
   "cell_type": "code",
   "execution_count": null,
   "metadata": {},
   "outputs": [],
   "source": [
    "# sql_combined_totals = all_counts_query(sql_sim_pop, sql_real_pop, col_names_sim)\n",
    "sql_combined_totals = '''WITH population_real AS ({real_pop_query}),\n",
    "population_sim AS ({sim_pop_query}),\n",
    "r AS ({real_totals_query}),\n",
    "s AS ({sim_totals_query})\n",
    "SELECT\n",
    "NVL(r.column_name, s.column_name) AS col_name,\n",
    "NVL(r.val, s.val) AS val,\n",
    "NVL(counts_real, 0) AS counts_r,\n",
    "NVL(counts_sim, 0) AS counts_s\n",
    "FROM r FULL OUTER JOIN s\n",
    "ON (r.column_name = s.column_name AND (r.val = s.val OR (r.val IS NULL AND s.val IS NULL)))\n",
    "OR (r.column_name = 'CREG_CODE' AND s.column_name = 'CREG_CODE' AND SUBSTR(r.val, 2) = SUBSTR(s.val, 2))\n",
    "OR (r.column_name = 'QUINTILE_2015' AND s.column_name = 'QUINTILE_2015' AND SUBSTR(r.val, 1, 1) = SUBSTR(s.val, 1, 1))\n",
    "'''.replace('\\n', ' ').format(real_pop_query=sql_real_pop,\n",
    "                              sim_pop_query=sql_sim_pop,\n",
    "                              real_totals_query=queries.make_totals_query(\n",
    "                                  sql_real_pop, col_names_sim, 'real', standalone=False),\n",
    "                              sim_totals_query=queries.make_totals_query(sql_sim_pop, col_names_sim, 'sim', standalone=False))"
   ]
  },
  {
   "cell_type": "code",
   "execution_count": null,
   "metadata": {},
   "outputs": [],
   "source": [
    "totals_comb = pd.read_sql_query(sql_combined_totals, db)\n",
    "print(totals_comb.shape)"
   ]
  },
  {
   "cell_type": "code",
   "execution_count": null,
   "metadata": {},
   "outputs": [],
   "source": [
    "totals_comb.head(20)"
   ]
  },
  {
   "cell_type": "code",
   "execution_count": null,
   "metadata": {},
   "outputs": [],
   "source": []
  }
 ],
 "metadata": {
  "kernelspec": {
   "display_name": "Python 3",
   "language": "python",
   "name": "python3"
  },
  "language_info": {
   "codemirror_mode": {
    "name": "ipython",
    "version": 3
   },
   "file_extension": ".py",
   "mimetype": "text/x-python",
   "name": "python",
   "nbconvert_exporter": "python",
   "pygments_lexer": "ipython3",
   "version": "3.7.7"
  },
  "toc": {
   "base_numbering": 1,
   "nav_menu": {},
   "number_sections": true,
   "sideBar": true,
   "skip_h1_title": false,
   "title_cell": "Table of Contents",
   "title_sidebar": "Contents",
   "toc_cell": false,
   "toc_position": {},
   "toc_section_display": true,
   "toc_window_display": false
  },
  "varInspector": {
   "cols": {
    "lenName": 16,
    "lenType": 16,
    "lenVar": 40
   },
   "kernels_config": {
    "python": {
     "delete_cmd_postfix": "",
     "delete_cmd_prefix": "del ",
     "library": "var_list.py",
     "varRefreshCmd": "print(var_dic_list())"
    },
    "r": {
     "delete_cmd_postfix": ") ",
     "delete_cmd_prefix": "rm(",
     "library": "var_list.r",
     "varRefreshCmd": "cat(var_dic_list()) "
    }
   },
   "position": {
    "height": "226px",
    "left": "1541px",
    "right": "20px",
    "top": "132px",
    "width": "363px"
   },
   "types_to_exclude": [
    "module",
    "function",
    "builtin_function_or_method",
    "instance",
    "_Feature"
   ],
   "window_display": false
  }
 },
 "nbformat": 4,
 "nbformat_minor": 2
}
